{
 "cells": [
  {
   "cell_type": "markdown",
   "metadata": {},
   "source": [
    "<h1> NBO/A Recommender Code Walkthrough "
   ]
  },
  {
   "cell_type": "markdown",
   "metadata": {},
   "source": [
    "Author: Sabine Joseph (Accenture GmbH)\n",
    "sabine.a.joseph@accenture.com"
   ]
  },
  {
   "cell_type": "code",
   "execution_count": 7,
   "metadata": {
    "collapsed": true
   },
   "outputs": [],
   "source": [
    "import pandas as pd\n",
    "import numpy as np\n",
    "from sklearn.feature_extraction.text import CountVectorizer\n",
    "from sklearn.metrics.pairwise import cosine_similarity"
   ]
  },
  {
   "cell_type": "markdown",
   "metadata": {},
   "source": [
    "*Generating toy dataset of 5 orders described by a maximum of 5 features each (sample SA codes)*\n",
    "- we assume that this dataset represents a bucket (subset of full dataset for selected market)\n",
    "- i.e. the dataset only includes orders of the same typeclass, engine specs. and int./ext. packages"
   ]
  },
  {
   "cell_type": "code",
   "execution_count": 12,
   "metadata": {},
   "outputs": [
    {
     "data": {
      "text/html": [
       "<div>\n",
       "<style>\n",
       "    .dataframe thead tr:only-child th {\n",
       "        text-align: right;\n",
       "    }\n",
       "\n",
       "    .dataframe thead th {\n",
       "        text-align: left;\n",
       "    }\n",
       "\n",
       "    .dataframe tbody tr th {\n",
       "        vertical-align: top;\n",
       "    }\n",
       "</style>\n",
       "<table border=\"1\" class=\"dataframe\">\n",
       "  <thead>\n",
       "    <tr style=\"text-align: right;\">\n",
       "      <th></th>\n",
       "      <th>OrderID</th>\n",
       "      <th>Features</th>\n",
       "    </tr>\n",
       "  </thead>\n",
       "  <tbody>\n",
       "    <tr>\n",
       "      <th>0</th>\n",
       "      <td>1001</td>\n",
       "      <td>SA1,SA2,SA4</td>\n",
       "    </tr>\n",
       "    <tr>\n",
       "      <th>1</th>\n",
       "      <td>1002</td>\n",
       "      <td>SA1,SA2,SA4,SA5</td>\n",
       "    </tr>\n",
       "    <tr>\n",
       "      <th>2</th>\n",
       "      <td>1003</td>\n",
       "      <td>SA1,SA2,SA3,SA4,SA5</td>\n",
       "    </tr>\n",
       "    <tr>\n",
       "      <th>3</th>\n",
       "      <td>1004</td>\n",
       "      <td>SA1,SA2,SA3,SA5</td>\n",
       "    </tr>\n",
       "    <tr>\n",
       "      <th>4</th>\n",
       "      <td>1005</td>\n",
       "      <td>SA2,SA5</td>\n",
       "    </tr>\n",
       "  </tbody>\n",
       "</table>\n",
       "</div>"
      ],
      "text/plain": [
       "   OrderID             Features\n",
       "0     1001          SA1,SA2,SA4\n",
       "1     1002      SA1,SA2,SA4,SA5\n",
       "2     1003  SA1,SA2,SA3,SA4,SA5\n",
       "3     1004      SA1,SA2,SA3,SA5\n",
       "4     1005              SA2,SA5"
      ]
     },
     "execution_count": 12,
     "metadata": {},
     "output_type": "execute_result"
    }
   ],
   "source": [
    "labels = ['OrderID', 'Features']\n",
    "orders = [(1001, 'SA1,SA2,SA4'),\n",
    "         (1002, 'SA1,SA2,SA4,SA5'),\n",
    "         (1003, 'SA1,SA2,SA3,SA4,SA5'),\n",
    "         (1004, 'SA1,SA2,SA3,SA5'),\n",
    "         (1005, 'SA2,SA5')]\n",
    "df = pd.DataFrame.from_records(orders, columns=labels)\n",
    "df"
   ]
  },
  {
   "cell_type": "markdown",
   "metadata": {},
   "source": [
    "*Vectorization of features*\n",
    "- generates sparse order feature matrix from Feature column for each order"
   ]
  },
  {
   "cell_type": "code",
   "execution_count": 16,
   "metadata": {},
   "outputs": [
    {
     "data": {
      "text/html": [
       "<div>\n",
       "<style>\n",
       "    .dataframe thead tr:only-child th {\n",
       "        text-align: right;\n",
       "    }\n",
       "\n",
       "    .dataframe thead th {\n",
       "        text-align: left;\n",
       "    }\n",
       "\n",
       "    .dataframe tbody tr th {\n",
       "        vertical-align: top;\n",
       "    }\n",
       "</style>\n",
       "<table border=\"1\" class=\"dataframe\">\n",
       "  <thead>\n",
       "    <tr style=\"text-align: right;\">\n",
       "      <th></th>\n",
       "      <th>SA1</th>\n",
       "      <th>SA2</th>\n",
       "      <th>SA3</th>\n",
       "      <th>SA4</th>\n",
       "      <th>SA5</th>\n",
       "    </tr>\n",
       "  </thead>\n",
       "  <tbody>\n",
       "    <tr>\n",
       "      <th>0</th>\n",
       "      <td>1</td>\n",
       "      <td>1</td>\n",
       "      <td>0</td>\n",
       "      <td>1</td>\n",
       "      <td>0</td>\n",
       "    </tr>\n",
       "    <tr>\n",
       "      <th>1</th>\n",
       "      <td>1</td>\n",
       "      <td>1</td>\n",
       "      <td>0</td>\n",
       "      <td>1</td>\n",
       "      <td>1</td>\n",
       "    </tr>\n",
       "    <tr>\n",
       "      <th>2</th>\n",
       "      <td>1</td>\n",
       "      <td>1</td>\n",
       "      <td>1</td>\n",
       "      <td>1</td>\n",
       "      <td>1</td>\n",
       "    </tr>\n",
       "    <tr>\n",
       "      <th>3</th>\n",
       "      <td>1</td>\n",
       "      <td>1</td>\n",
       "      <td>1</td>\n",
       "      <td>0</td>\n",
       "      <td>1</td>\n",
       "    </tr>\n",
       "    <tr>\n",
       "      <th>4</th>\n",
       "      <td>0</td>\n",
       "      <td>1</td>\n",
       "      <td>0</td>\n",
       "      <td>0</td>\n",
       "      <td>1</td>\n",
       "    </tr>\n",
       "  </tbody>\n",
       "</table>\n",
       "</div>"
      ],
      "text/plain": [
       "   SA1  SA2  SA3  SA4  SA5\n",
       "0    1    1    0    1    0\n",
       "1    1    1    0    1    1\n",
       "2    1    1    1    1    1\n",
       "3    1    1    1    0    1\n",
       "4    0    1    0    0    1"
      ]
     },
     "execution_count": 16,
     "metadata": {},
     "output_type": "execute_result"
    }
   ],
   "source": [
    "vectorizer = CountVectorizer(tokenizer=lambda features: features.split(\",\"), lowercase=False)\n",
    "orderFeatureMatrix = vectorizer.fit_transform(df['Features'])\n",
    "featureList = vectorizer.get_feature_names() \n",
    "orderFeatureMatrixDF = pd.DataFrame(orderFeatureMatrix.todense(), index=None, columns=featureList)\n",
    "orderFeatureMatrixDF"
   ]
  },
  {
   "cell_type": "markdown",
   "metadata": {},
   "source": [
    "*Matrix transposition*\n",
    "- as similarity function takes following input format, that is why the above matrix is transposed:\n",
    "    - n_samples_X (here: orders), n_features (here: Features)"
   ]
  },
  {
   "cell_type": "code",
   "execution_count": 24,
   "metadata": {},
   "outputs": [
    {
     "data": {
      "text/html": [
       "<div>\n",
       "<style>\n",
       "    .dataframe thead tr:only-child th {\n",
       "        text-align: right;\n",
       "    }\n",
       "\n",
       "    .dataframe thead th {\n",
       "        text-align: left;\n",
       "    }\n",
       "\n",
       "    .dataframe tbody tr th {\n",
       "        vertical-align: top;\n",
       "    }\n",
       "</style>\n",
       "<table border=\"1\" class=\"dataframe\">\n",
       "  <thead>\n",
       "    <tr style=\"text-align: right;\">\n",
       "      <th></th>\n",
       "      <th>0</th>\n",
       "      <th>1</th>\n",
       "      <th>2</th>\n",
       "      <th>3</th>\n",
       "      <th>4</th>\n",
       "    </tr>\n",
       "  </thead>\n",
       "  <tbody>\n",
       "    <tr>\n",
       "      <th>SA1</th>\n",
       "      <td>1</td>\n",
       "      <td>1</td>\n",
       "      <td>1</td>\n",
       "      <td>1</td>\n",
       "      <td>0</td>\n",
       "    </tr>\n",
       "    <tr>\n",
       "      <th>SA2</th>\n",
       "      <td>1</td>\n",
       "      <td>1</td>\n",
       "      <td>1</td>\n",
       "      <td>1</td>\n",
       "      <td>1</td>\n",
       "    </tr>\n",
       "    <tr>\n",
       "      <th>SA3</th>\n",
       "      <td>0</td>\n",
       "      <td>0</td>\n",
       "      <td>1</td>\n",
       "      <td>1</td>\n",
       "      <td>0</td>\n",
       "    </tr>\n",
       "    <tr>\n",
       "      <th>SA4</th>\n",
       "      <td>1</td>\n",
       "      <td>1</td>\n",
       "      <td>1</td>\n",
       "      <td>0</td>\n",
       "      <td>0</td>\n",
       "    </tr>\n",
       "    <tr>\n",
       "      <th>SA5</th>\n",
       "      <td>0</td>\n",
       "      <td>1</td>\n",
       "      <td>1</td>\n",
       "      <td>1</td>\n",
       "      <td>1</td>\n",
       "    </tr>\n",
       "  </tbody>\n",
       "</table>\n",
       "</div>"
      ],
      "text/plain": [
       "     0  1  2  3  4\n",
       "SA1  1  1  1  1  0\n",
       "SA2  1  1  1  1  1\n",
       "SA3  0  0  1  1  0\n",
       "SA4  1  1  1  0  0\n",
       "SA5  0  1  1  1  1"
      ]
     },
     "execution_count": 24,
     "metadata": {},
     "output_type": "execute_result"
    }
   ],
   "source": [
    "orderFeatureMatrixDF.T"
   ]
  },
  {
   "cell_type": "markdown",
   "metadata": {},
   "source": [
    "*Calculating cosine similarity*\n",
    "- Why cosine?\n",
    "    - very efficient and commonly used for evaluation of sparse vectors/matrices\n",
    "    - the results between 1 and -1 or easy to interpret\n",
    "    - other similarity metrics: Jaccard, Pearson, Spearmann, Euclidian, Manhattan "
   ]
  },
  {
   "cell_type": "code",
   "execution_count": 25,
   "metadata": {},
   "outputs": [
    {
     "data": {
      "text/html": [
       "<div>\n",
       "<style>\n",
       "    .dataframe thead tr:only-child th {\n",
       "        text-align: right;\n",
       "    }\n",
       "\n",
       "    .dataframe thead th {\n",
       "        text-align: left;\n",
       "    }\n",
       "\n",
       "    .dataframe tbody tr th {\n",
       "        vertical-align: top;\n",
       "    }\n",
       "</style>\n",
       "<table border=\"1\" class=\"dataframe\">\n",
       "  <thead>\n",
       "    <tr style=\"text-align: right;\">\n",
       "      <th></th>\n",
       "      <th>SA1</th>\n",
       "      <th>SA2</th>\n",
       "      <th>SA3</th>\n",
       "      <th>SA4</th>\n",
       "      <th>SA5</th>\n",
       "    </tr>\n",
       "  </thead>\n",
       "  <tbody>\n",
       "    <tr>\n",
       "      <th>SA1</th>\n",
       "      <td>1.000000</td>\n",
       "      <td>0.894427</td>\n",
       "      <td>0.707107</td>\n",
       "      <td>0.866025</td>\n",
       "      <td>0.750000</td>\n",
       "    </tr>\n",
       "    <tr>\n",
       "      <th>SA2</th>\n",
       "      <td>0.894427</td>\n",
       "      <td>1.000000</td>\n",
       "      <td>0.632456</td>\n",
       "      <td>0.774597</td>\n",
       "      <td>0.894427</td>\n",
       "    </tr>\n",
       "    <tr>\n",
       "      <th>SA3</th>\n",
       "      <td>0.707107</td>\n",
       "      <td>0.632456</td>\n",
       "      <td>1.000000</td>\n",
       "      <td>0.408248</td>\n",
       "      <td>0.707107</td>\n",
       "    </tr>\n",
       "    <tr>\n",
       "      <th>SA4</th>\n",
       "      <td>0.866025</td>\n",
       "      <td>0.774597</td>\n",
       "      <td>0.408248</td>\n",
       "      <td>1.000000</td>\n",
       "      <td>0.577350</td>\n",
       "    </tr>\n",
       "    <tr>\n",
       "      <th>SA5</th>\n",
       "      <td>0.750000</td>\n",
       "      <td>0.894427</td>\n",
       "      <td>0.707107</td>\n",
       "      <td>0.577350</td>\n",
       "      <td>1.000000</td>\n",
       "    </tr>\n",
       "  </tbody>\n",
       "</table>\n",
       "</div>"
      ],
      "text/plain": [
       "          SA1       SA2       SA3       SA4       SA5\n",
       "SA1  1.000000  0.894427  0.707107  0.866025  0.750000\n",
       "SA2  0.894427  1.000000  0.632456  0.774597  0.894427\n",
       "SA3  0.707107  0.632456  1.000000  0.408248  0.707107\n",
       "SA4  0.866025  0.774597  0.408248  1.000000  0.577350\n",
       "SA5  0.750000  0.894427  0.707107  0.577350  1.000000"
      ]
     },
     "execution_count": 25,
     "metadata": {},
     "output_type": "execute_result"
    }
   ],
   "source": [
    "similarityMatrix = cosine_similarity(orderFeatureMatrix.T)\n",
    "featureList = ['SA1', 'SA2', 'SA3', 'SA4', 'SA5']\n",
    "similarityMatrixDF = pd.DataFrame(similarityMatrix, index=featureList, columns=featureList)\n",
    "similarityMatrixDF"
   ]
  },
  {
   "cell_type": "markdown",
   "metadata": {},
   "source": [
    "*Calculating feature take rates*\n",
    "- based on orderFeatureMatrixDF table\n",
    "- taking mean of each column"
   ]
  },
  {
   "cell_type": "code",
   "execution_count": 28,
   "metadata": {},
   "outputs": [
    {
     "data": {
      "text/html": [
       "<div>\n",
       "<style>\n",
       "    .dataframe thead tr:only-child th {\n",
       "        text-align: right;\n",
       "    }\n",
       "\n",
       "    .dataframe thead th {\n",
       "        text-align: left;\n",
       "    }\n",
       "\n",
       "    .dataframe tbody tr th {\n",
       "        vertical-align: top;\n",
       "    }\n",
       "</style>\n",
       "<table border=\"1\" class=\"dataframe\">\n",
       "  <thead>\n",
       "    <tr style=\"text-align: right;\">\n",
       "      <th></th>\n",
       "      <th>Features</th>\n",
       "      <th>Takerate</th>\n",
       "    </tr>\n",
       "  </thead>\n",
       "  <tbody>\n",
       "    <tr>\n",
       "      <th>0</th>\n",
       "      <td>SA1</td>\n",
       "      <td>0.8</td>\n",
       "    </tr>\n",
       "    <tr>\n",
       "      <th>1</th>\n",
       "      <td>SA2</td>\n",
       "      <td>1.0</td>\n",
       "    </tr>\n",
       "    <tr>\n",
       "      <th>2</th>\n",
       "      <td>SA3</td>\n",
       "      <td>0.4</td>\n",
       "    </tr>\n",
       "    <tr>\n",
       "      <th>3</th>\n",
       "      <td>SA4</td>\n",
       "      <td>0.6</td>\n",
       "    </tr>\n",
       "    <tr>\n",
       "      <th>4</th>\n",
       "      <td>SA5</td>\n",
       "      <td>0.8</td>\n",
       "    </tr>\n",
       "  </tbody>\n",
       "</table>\n",
       "</div>"
      ],
      "text/plain": [
       "  Features  Takerate\n",
       "0      SA1       0.8\n",
       "1      SA2       1.0\n",
       "2      SA3       0.4\n",
       "3      SA4       0.6\n",
       "4      SA5       0.8"
      ]
     },
     "execution_count": 28,
     "metadata": {},
     "output_type": "execute_result"
    }
   ],
   "source": [
    "featureTakeratesDF = pd.DataFrame(featureList, columns=['Features'])\n",
    "featureTakeratesDF['Takerate'] = orderFeatureMatrixDF.mean().values\n",
    "featureTakeratesDF"
   ]
  },
  {
   "cell_type": "markdown",
   "metadata": {},
   "source": [
    "*Calculating scores for a specific order*\n",
    "- here: the given order contains 2 Features: SA1 and SA3"
   ]
  },
  {
   "cell_type": "code",
   "execution_count": 79,
   "metadata": {
    "collapsed": true
   },
   "outputs": [],
   "source": [
    "#################################################################\n",
    "currentOrderFeatures = 'SA1,SA3'\n",
    "currentOrderFeatureCount = len(currentOrderFeatures.split(','))\n",
    "#################################################################\n",
    "\n",
    "def FeatureInFeatureList(Feature, currentOrderFeatures):\n",
    "    return (\",{},\".format(Feature)) in \",{},\".format(currentOrderFeatures)\n",
    "\n",
    "def CalculateScore(row, featureTakeratesDF, currentOrderFeatureCount):\n",
    "    score = sum(row.values * featureTakeratesDF['CurrentOrder'].values * (featureTakeratesDF['Takerate'].values))\n",
    "    score = score / currentOrderFeatureCount\n",
    "    return score\n",
    "\n",
    "featureTakeratesDF['CurrentOrder'] = featureTakeratesDF.apply(lambda feature: 1 if FeatureInFeatureList(feature[0], currentOrderFeatures) else 0, axis = 1)\n",
    "similarityMatrixDF['Score'] = similarityMatrixDF.apply(lambda row: -1 if FeatureInFeatureList(row.name, currentOrderFeatures) else CalculateScore(row, featureTakeratesDF, currentOrderFeatureCount))"
   ]
  },
  {
   "cell_type": "markdown",
   "metadata": {},
   "source": [
    "As a result, the featureTakeratesDF now contains a new column (CurrentOrder), specifying which features were part of the current order "
   ]
  },
  {
   "cell_type": "code",
   "execution_count": 73,
   "metadata": {},
   "outputs": [
    {
     "data": {
      "text/html": [
       "<div>\n",
       "<style>\n",
       "    .dataframe thead tr:only-child th {\n",
       "        text-align: right;\n",
       "    }\n",
       "\n",
       "    .dataframe thead th {\n",
       "        text-align: left;\n",
       "    }\n",
       "\n",
       "    .dataframe tbody tr th {\n",
       "        vertical-align: top;\n",
       "    }\n",
       "</style>\n",
       "<table border=\"1\" class=\"dataframe\">\n",
       "  <thead>\n",
       "    <tr style=\"text-align: right;\">\n",
       "      <th></th>\n",
       "      <th>Features</th>\n",
       "      <th>Takerate</th>\n",
       "      <th>CurrentOrder</th>\n",
       "    </tr>\n",
       "  </thead>\n",
       "  <tbody>\n",
       "    <tr>\n",
       "      <th>0</th>\n",
       "      <td>SA1</td>\n",
       "      <td>0.8</td>\n",
       "      <td>1</td>\n",
       "    </tr>\n",
       "    <tr>\n",
       "      <th>1</th>\n",
       "      <td>SA2</td>\n",
       "      <td>1.0</td>\n",
       "      <td>0</td>\n",
       "    </tr>\n",
       "    <tr>\n",
       "      <th>2</th>\n",
       "      <td>SA3</td>\n",
       "      <td>0.4</td>\n",
       "      <td>1</td>\n",
       "    </tr>\n",
       "    <tr>\n",
       "      <th>3</th>\n",
       "      <td>SA4</td>\n",
       "      <td>0.6</td>\n",
       "      <td>0</td>\n",
       "    </tr>\n",
       "    <tr>\n",
       "      <th>4</th>\n",
       "      <td>SA5</td>\n",
       "      <td>0.8</td>\n",
       "      <td>0</td>\n",
       "    </tr>\n",
       "  </tbody>\n",
       "</table>\n",
       "</div>"
      ],
      "text/plain": [
       "  Features  Takerate  CurrentOrder\n",
       "0      SA1       0.8             1\n",
       "1      SA2       1.0             0\n",
       "2      SA3       0.4             1\n",
       "3      SA4       0.6             0\n",
       "4      SA5       0.8             0"
      ]
     },
     "execution_count": 73,
     "metadata": {},
     "output_type": "execute_result"
    }
   ],
   "source": [
    "featureTakeratesDF"
   ]
  },
  {
   "cell_type": "markdown",
   "metadata": {},
   "source": [
    "And we also get a new Score column in our similarity matrix table, where individual scores are shown for each feature"
   ]
  },
  {
   "cell_type": "code",
   "execution_count": 81,
   "metadata": {},
   "outputs": [
    {
     "data": {
      "text/html": [
       "<div>\n",
       "<style>\n",
       "    .dataframe thead tr:only-child th {\n",
       "        text-align: right;\n",
       "    }\n",
       "\n",
       "    .dataframe thead th {\n",
       "        text-align: left;\n",
       "    }\n",
       "\n",
       "    .dataframe tbody tr th {\n",
       "        vertical-align: top;\n",
       "    }\n",
       "</style>\n",
       "<table border=\"1\" class=\"dataframe\">\n",
       "  <thead>\n",
       "    <tr style=\"text-align: right;\">\n",
       "      <th></th>\n",
       "      <th>SA1</th>\n",
       "      <th>SA2</th>\n",
       "      <th>SA3</th>\n",
       "      <th>SA4</th>\n",
       "      <th>SA5</th>\n",
       "      <th>Score</th>\n",
       "    </tr>\n",
       "  </thead>\n",
       "  <tbody>\n",
       "    <tr>\n",
       "      <th>SA1</th>\n",
       "      <td>1.000000</td>\n",
       "      <td>0.894427</td>\n",
       "      <td>0.707107</td>\n",
       "      <td>0.866025</td>\n",
       "      <td>0.750000</td>\n",
       "      <td>-1.000000</td>\n",
       "    </tr>\n",
       "    <tr>\n",
       "      <th>SA2</th>\n",
       "      <td>0.894427</td>\n",
       "      <td>1.000000</td>\n",
       "      <td>0.632456</td>\n",
       "      <td>0.774597</td>\n",
       "      <td>0.894427</td>\n",
       "      <td>0.484262</td>\n",
       "    </tr>\n",
       "    <tr>\n",
       "      <th>SA3</th>\n",
       "      <td>0.707107</td>\n",
       "      <td>0.632456</td>\n",
       "      <td>1.000000</td>\n",
       "      <td>0.408248</td>\n",
       "      <td>0.707107</td>\n",
       "      <td>-1.000000</td>\n",
       "    </tr>\n",
       "    <tr>\n",
       "      <th>SA4</th>\n",
       "      <td>0.866025</td>\n",
       "      <td>0.774597</td>\n",
       "      <td>0.408248</td>\n",
       "      <td>1.000000</td>\n",
       "      <td>0.577350</td>\n",
       "      <td>0.428060</td>\n",
       "    </tr>\n",
       "    <tr>\n",
       "      <th>SA5</th>\n",
       "      <td>0.750000</td>\n",
       "      <td>0.894427</td>\n",
       "      <td>0.707107</td>\n",
       "      <td>0.577350</td>\n",
       "      <td>1.000000</td>\n",
       "      <td>0.441421</td>\n",
       "    </tr>\n",
       "  </tbody>\n",
       "</table>\n",
       "</div>"
      ],
      "text/plain": [
       "          SA1       SA2       SA3       SA4       SA5     Score\n",
       "SA1  1.000000  0.894427  0.707107  0.866025  0.750000 -1.000000\n",
       "SA2  0.894427  1.000000  0.632456  0.774597  0.894427  0.484262\n",
       "SA3  0.707107  0.632456  1.000000  0.408248  0.707107 -1.000000\n",
       "SA4  0.866025  0.774597  0.408248  1.000000  0.577350  0.428060\n",
       "SA5  0.750000  0.894427  0.707107  0.577350  1.000000  0.441421"
      ]
     },
     "execution_count": 81,
     "metadata": {},
     "output_type": "execute_result"
    }
   ],
   "source": [
    "similarityMatrixDF"
   ]
  },
  {
   "cell_type": "markdown",
   "metadata": {},
   "source": [
    "Let's break down how the scoring works exactly!\n",
    "- if the feature is already part of the current order, the Score is assigned to -1\n",
    "     - those features will not be recommended\n",
    "- otherwise a score is calculated for each feature as follows:\n",
    " i.e. how do we get a score for SA2?\n",
    "    - multiplication of 3 vectors containing 5 values each: \n",
    "        entire SA2 column, featureTakeratesDF CurrentOrder column, Takerate column\n",
    "    - sum of resulting vector is taken\n",
    "    - division by total number of features in current order (here: currentOrderFeatureCount = 2)"
   ]
  },
  {
   "cell_type": "code",
   "execution_count": 76,
   "metadata": {},
   "outputs": [
    {
     "name": "stdout",
     "output_type": "stream",
     "text": [
      "SA2 values [ 0.89442719  1.          0.63245553  0.77459667  0.89442719]\n",
      "feature takerates from current order [1 0 1 0 0]\n",
      "feature takerates from dataset [ 0.8  1.   0.4  0.6  0.8]\n",
      "sum of values in resulting vector 0.968523965613\n",
      "division by total number of features in current order 0.484261982807\n",
      "the final score for SA2 is 0.484261982807\n"
     ]
    }
   ],
   "source": [
    "print 'SA2 values ' + str(similarityMatrixDF.SA2.values)\n",
    "print 'feature takerates from current order ' + str(featureTakeratesDF['CurrentOrder'].values)\n",
    "print 'feature takerates from dataset ' + str(featureTakeratesDF['Takerate'].values)\n",
    "res = sum(similarityMatrixDF.SA2.values * featureTakeratesDF['CurrentOrder'].values * (featureTakeratesDF['Takerate'].values))\n",
    "\n",
    "print 'sum of values in resulting vector ' + str(res)\n",
    "print 'division by total number of features in current order ' + str(res/currentOrderFeatureCount)\n",
    "print 'the final score for SA2 is ' + str(res/currentOrderFeatureCount)"
   ]
  },
  {
   "cell_type": "markdown",
   "metadata": {},
   "source": [
    "Why do we get slightly different scores for different orders of the same bucket?\n",
    "- .. although similarity remain the same ..\n",
    "- due to different amount of features included in each order\n",
    "- see sample order 2"
   ]
  },
  {
   "cell_type": "code",
   "execution_count": 63,
   "metadata": {
    "collapsed": true
   },
   "outputs": [],
   "source": [
    "#################################################################\n",
    "currentOrderFeatures_2 = 'SA1,SA3,SA5'\n",
    "currentOrderFeatureCount_2 = len(currentOrderFeatures_2.split(','))\n",
    "#################################################################"
   ]
  },
  {
   "cell_type": "code",
   "execution_count": 66,
   "metadata": {
    "collapsed": true
   },
   "outputs": [],
   "source": [
    "featureTakeratesDF['CurrentOrder'] = featureTakeratesDF.apply(lambda feature: 1 if FeatureInFeatureList(feature[0], currentOrderFeatures_2) else 0, axis = 1)\n",
    "similarityMatrixDF['Score'] = similarityMatrixDF.apply(lambda row: -1 if FeatureInFeatureList(row.name, currentOrderFeatures) else CalculateScore(row, featureTakeratesDF, currentOrderFeatureCount_2))"
   ]
  },
  {
   "cell_type": "code",
   "execution_count": 67,
   "metadata": {},
   "outputs": [
    {
     "data": {
      "text/html": [
       "<div>\n",
       "<style>\n",
       "    .dataframe thead tr:only-child th {\n",
       "        text-align: right;\n",
       "    }\n",
       "\n",
       "    .dataframe thead th {\n",
       "        text-align: left;\n",
       "    }\n",
       "\n",
       "    .dataframe tbody tr th {\n",
       "        vertical-align: top;\n",
       "    }\n",
       "</style>\n",
       "<table border=\"1\" class=\"dataframe\">\n",
       "  <thead>\n",
       "    <tr style=\"text-align: right;\">\n",
       "      <th></th>\n",
       "      <th>SA1</th>\n",
       "      <th>SA2</th>\n",
       "      <th>SA3</th>\n",
       "      <th>SA4</th>\n",
       "      <th>SA5</th>\n",
       "      <th>Score</th>\n",
       "    </tr>\n",
       "  </thead>\n",
       "  <tbody>\n",
       "    <tr>\n",
       "      <th>SA1</th>\n",
       "      <td>1.000000</td>\n",
       "      <td>0.894427</td>\n",
       "      <td>0.707107</td>\n",
       "      <td>0.866025</td>\n",
       "      <td>0.750000</td>\n",
       "      <td>-1.000000</td>\n",
       "    </tr>\n",
       "    <tr>\n",
       "      <th>SA2</th>\n",
       "      <td>0.894427</td>\n",
       "      <td>1.000000</td>\n",
       "      <td>0.632456</td>\n",
       "      <td>0.774597</td>\n",
       "      <td>0.894427</td>\n",
       "      <td>0.561355</td>\n",
       "    </tr>\n",
       "    <tr>\n",
       "      <th>SA3</th>\n",
       "      <td>0.707107</td>\n",
       "      <td>0.632456</td>\n",
       "      <td>1.000000</td>\n",
       "      <td>0.408248</td>\n",
       "      <td>0.707107</td>\n",
       "      <td>-1.000000</td>\n",
       "    </tr>\n",
       "    <tr>\n",
       "      <th>SA4</th>\n",
       "      <td>0.866025</td>\n",
       "      <td>0.774597</td>\n",
       "      <td>0.408248</td>\n",
       "      <td>1.000000</td>\n",
       "      <td>0.577350</td>\n",
       "      <td>0.439333</td>\n",
       "    </tr>\n",
       "    <tr>\n",
       "      <th>SA5</th>\n",
       "      <td>0.750000</td>\n",
       "      <td>0.894427</td>\n",
       "      <td>0.707107</td>\n",
       "      <td>0.577350</td>\n",
       "      <td>1.000000</td>\n",
       "      <td>0.560948</td>\n",
       "    </tr>\n",
       "  </tbody>\n",
       "</table>\n",
       "</div>"
      ],
      "text/plain": [
       "          SA1       SA2       SA3       SA4       SA5     Score\n",
       "SA1  1.000000  0.894427  0.707107  0.866025  0.750000 -1.000000\n",
       "SA2  0.894427  1.000000  0.632456  0.774597  0.894427  0.561355\n",
       "SA3  0.707107  0.632456  1.000000  0.408248  0.707107 -1.000000\n",
       "SA4  0.866025  0.774597  0.408248  1.000000  0.577350  0.439333\n",
       "SA5  0.750000  0.894427  0.707107  0.577350  1.000000  0.560948"
      ]
     },
     "execution_count": 67,
     "metadata": {},
     "output_type": "execute_result"
    }
   ],
   "source": [
    "similarityMatrixDF"
   ]
  },
  {
   "cell_type": "markdown",
   "metadata": {},
   "source": [
    "*Ranking / sorting of scores*\n",
    "- we only use values greater than 0 for sorting of values in descending order\n",
    "- only the features with highest scores are recommended"
   ]
  },
  {
   "cell_type": "code",
   "execution_count": 84,
   "metadata": {},
   "outputs": [
    {
     "data": {
      "text/html": [
       "<div>\n",
       "<style>\n",
       "    .dataframe thead tr:only-child th {\n",
       "        text-align: right;\n",
       "    }\n",
       "\n",
       "    .dataframe thead th {\n",
       "        text-align: left;\n",
       "    }\n",
       "\n",
       "    .dataframe tbody tr th {\n",
       "        vertical-align: top;\n",
       "    }\n",
       "</style>\n",
       "<table border=\"1\" class=\"dataframe\">\n",
       "  <thead>\n",
       "    <tr style=\"text-align: right;\">\n",
       "      <th></th>\n",
       "      <th>Ranking</th>\n",
       "      <th>SA_Code</th>\n",
       "      <th>Score</th>\n",
       "    </tr>\n",
       "  </thead>\n",
       "  <tbody>\n",
       "    <tr>\n",
       "      <th>SA2</th>\n",
       "      <td>1</td>\n",
       "      <td>SA2</td>\n",
       "      <td>0.484262</td>\n",
       "    </tr>\n",
       "    <tr>\n",
       "      <th>SA5</th>\n",
       "      <td>2</td>\n",
       "      <td>SA5</td>\n",
       "      <td>0.441421</td>\n",
       "    </tr>\n",
       "    <tr>\n",
       "      <th>SA4</th>\n",
       "      <td>3</td>\n",
       "      <td>SA4</td>\n",
       "      <td>0.428060</td>\n",
       "    </tr>\n",
       "  </tbody>\n",
       "</table>\n",
       "</div>"
      ],
      "text/plain": [
       "     Ranking SA_Code     Score\n",
       "SA2        1     SA2  0.484262\n",
       "SA5        2     SA5  0.441421\n",
       "SA4        3     SA4  0.428060"
      ]
     },
     "execution_count": 84,
     "metadata": {},
     "output_type": "execute_result"
    }
   ],
   "source": [
    "rankingDF = pd.DataFrame(index=similarityMatrixDF.index)\n",
    "rankingDF['Ranking'] = 0\n",
    "rankingDF['SA_Code'] = rankingDF.index\n",
    "rankingDF['Score'] = similarityMatrixDF['Score'].values\n",
    "rankingDF = rankingDF[rankingDF['Score'] > 0].sort_values(by = 'Score', ascending = False)\n",
    "rankingDF['Ranking'] = range(1,rankingDF.index.size + 1)\n",
    "rankingDF"
   ]
  },
  {
   "cell_type": "code",
   "execution_count": 1,
   "metadata": {},
   "outputs": [
    {
     "data": {
      "text/plain": [
       "'3,2,P,,,9,8,U'"
      ]
     },
     "execution_count": 1,
     "metadata": {},
     "output_type": "execute_result"
    }
   ],
   "source": [
    "','.join(list('U89,P23')[::-1])"
   ]
  },
  {
   "cell_type": "code",
   "execution_count": 6,
   "metadata": {},
   "outputs": [
    {
     "data": {
      "text/plain": [
       "'P23,U89'"
      ]
     },
     "execution_count": 6,
     "metadata": {},
     "output_type": "execute_result"
    }
   ],
   "source": [
    "','.join('U89,P23'.split(',')[::-1])"
   ]
  },
  {
   "cell_type": "code",
   "execution_count": 10,
   "metadata": {},
   "outputs": [
    {
     "data": {
      "text/plain": [
       "'/Data/Baumusterreferenzliste_filtered_C.xlsx'"
      ]
     },
     "execution_count": 10,
     "metadata": {},
     "output_type": "execute_result"
    }
   ],
   "source": [
    "type_lookup =  {'A205': 'C-Class', 'C205': 'C-Class', 'W205': 'C-Class', 'X253': 'GLC', 'C253': 'GLC'}\n",
    "file_lookup = {'C-Class': '/Data/Baumusterreferenzliste_filtered_C.xlsx', \n",
    "               'GLC': '/Data/Baumusterreferenzliste_filtered_GLC.csv'}\n",
    "\n",
    "file_lookup[type_lookup['A205']]"
   ]
  },
  {
   "cell_type": "code",
   "execution_count": null,
   "metadata": {
    "collapsed": true
   },
   "outputs": [],
   "source": []
  }
 ],
 "metadata": {
  "kernelspec": {
   "display_name": "Python 3",
   "language": "python",
   "name": "python3"
  },
  "language_info": {
   "codemirror_mode": {
    "name": "ipython",
    "version": 3
   },
   "file_extension": ".py",
   "mimetype": "text/x-python",
   "name": "python",
   "nbconvert_exporter": "python",
   "pygments_lexer": "ipython3",
   "version": "3.6.2"
  }
 },
 "nbformat": 4,
 "nbformat_minor": 2
}
